{
 "cells": [
  {
   "cell_type": "markdown",
   "metadata": {},
   "source": [
    "# Answers"
   ]
  },
  {
   "cell_type": "markdown",
   "metadata": {},
   "source": [
    "## 1. No,Since A is assigned string 'spam' and it is never changed "
   ]
  },
  {
   "cell_type": "code",
   "execution_count": 4,
   "metadata": {},
   "outputs": [
    {
     "name": "stdout",
     "output_type": "stream",
     "text": [
      "spam\n",
      "shrubbery\n"
     ]
    }
   ],
   "source": [
    "a=\"spam\"\n",
    "b=a\n",
    "b=\"shrubbery\"\n",
    "print(a)\n",
    "print(b)"
   ]
  },
  {
   "cell_type": "markdown",
   "metadata": {},
   "source": [
    "## 2.Yes, maybe.... coz it's a character array and A is assigned to B(Pointing to refrence of A ) and any change is reflected back"
   ]
  },
  {
   "cell_type": "code",
   "execution_count": 8,
   "metadata": {},
   "outputs": [],
   "source": [
    "a=[\"spam\"]\n",
    "b=a\n",
    "b[0]=\"shrubbery\""
   ]
  },
  {
   "cell_type": "code",
   "execution_count": 9,
   "metadata": {},
   "outputs": [
    {
     "name": "stdout",
     "output_type": "stream",
     "text": [
      "['shrubbery']\n",
      "['shrubbery']\n"
     ]
    }
   ],
   "source": [
    "print(a)\n",
    "print(b)"
   ]
  },
  {
   "cell_type": "markdown",
   "metadata": {},
   "source": [
    "## 3. No. value is not changed"
   ]
  },
  {
   "cell_type": "code",
   "execution_count": 6,
   "metadata": {},
   "outputs": [
    {
     "name": "stdout",
     "output_type": "stream",
     "text": [
      "['spam']\n",
      "['shrubbery']\n"
     ]
    }
   ],
   "source": [
    "a=[\"spam\"]\n",
    "b=a[:]\n",
    "b[0]=\"shrubbery\"\n",
    "print(a)\n",
    "print(b)"
   ]
  },
  {
   "cell_type": "markdown",
   "metadata": {},
   "source": [
    "## 4."
   ]
  },
  {
   "cell_type": "code",
   "execution_count": 9,
   "metadata": {},
   "outputs": [
    {
     "name": "stdout",
     "output_type": "stream",
     "text": [
      "Hello friend .. Please provide your name Jayesh Kumar\n",
      "That's it..Hello!!  Jayesh Kumar\n"
     ]
    }
   ],
   "source": [
    "name=input(\"Hello friend .. Please provide your name \")\n",
    "print(\"That's it..Hello!! \",name)"
   ]
  },
  {
   "cell_type": "markdown",
   "metadata": {},
   "source": [
    "## 5."
   ]
  },
  {
   "cell_type": "code",
   "execution_count": 10,
   "metadata": {},
   "outputs": [
    {
     "name": "stdout",
     "output_type": "stream",
     "text": [
      "Enter Length of room (in m)12.33\n",
      "Enter Width of room (in m)2.55\n",
      "31.441499999999998 m^2\n"
     ]
    }
   ],
   "source": [
    "l=float(input(\"Enter Length of room (in m)\"))\n",
    "w=float(input(\"Enter Width of room (in m)\"))\n",
    "print(l*w,\"m^2\")\n"
   ]
  },
  {
   "cell_type": "markdown",
   "metadata": {},
   "source": [
    "## 6."
   ]
  },
  {
   "cell_type": "code",
   "execution_count": 12,
   "metadata": {},
   "outputs": [
    {
     "name": "stdout",
     "output_type": "stream",
     "text": [
      "Enter positive integer 'n' 14\n",
      "105.0\n"
     ]
    }
   ],
   "source": [
    "n=int(input(\"Enter positive integer 'n' \"))\n",
    "sum=(n)*(n+1)/2\n",
    "print(sum)"
   ]
  },
  {
   "cell_type": "markdown",
   "metadata": {},
   "source": [
    "## 7."
   ]
  },
  {
   "cell_type": "code",
   "execution_count": 15,
   "metadata": {},
   "outputs": [
    {
     "name": "stdout",
     "output_type": "stream",
     "text": [
      "Enter a 2\n",
      "Enter b 3\n",
      "a.Sum  5\n",
      "b.diff a-b  -1\n",
      "c.product  6\n",
      "d.quotient a/b  0.6666666666666666\n",
      "e.remainder a/b  2\n",
      "f.a^b  8\n"
     ]
    }
   ],
   "source": [
    "a=int(input(\"Enter a \"))\n",
    "b=int(input(\"Enter b \"))\n",
    "print(\"a.Sum \",a+b)\n",
    "print(\"b.diff a-b \",a-b)\n",
    "print(\"c.product \",a*b)\n",
    "print(\"d.quotient a/b \",a/b)\n",
    "print(\"e.remainder a/b \",a%b)\n",
    "print(\"f.a^b \",a**b)"
   ]
  },
  {
   "cell_type": "markdown",
   "metadata": {},
   "source": [
    "## 8."
   ]
  },
  {
   "cell_type": "code",
   "execution_count": 19,
   "metadata": {},
   "outputs": [
    {
     "name": "stdout",
     "output_type": "stream",
     "text": [
      "Enter height in feet 12\n",
      "Enter height in inches 6\n",
      "381.0  cm\n"
     ]
    }
   ],
   "source": [
    "ft=float(input(\"Enter height in feet \"))\n",
    "inc=float(input(\"Enter height in inches \"))\n",
    "total_cm=(ft*12+inc)*2.54\n",
    "print(total_cm,\" cm\")"
   ]
  },
  {
   "cell_type": "markdown",
   "metadata": {},
   "source": [
    "# 9."
   ]
  },
  {
   "cell_type": "code",
   "execution_count": 3,
   "metadata": {},
   "outputs": [
    {
     "name": "stdout",
     "output_type": "stream",
     "text": [
      "Enter positive integer 'a' 222\n",
      "Enter positive integer 'b' 321\n",
      "Enter positive integer 'c' 1\n",
      "1   222   321\n"
     ]
    }
   ],
   "source": [
    "a=int(input(\"Enter positive integer 'a' \"))\n",
    "b=int(input(\"Enter positive integer 'b' \"))\n",
    "c=int(input(\"Enter positive integer 'c' \"))\n",
    "mini=min(a,b,c)\n",
    "maxx=max(a,b,c)\n",
    "middle=(a+b+c-mini-maxx)\n",
    "print(mini,\" \",middle,\" \",maxx)"
   ]
  },
  {
   "cell_type": "markdown",
   "metadata": {},
   "source": [
    "# 10."
   ]
  },
  {
   "cell_type": "code",
   "execution_count": 88,
   "metadata": {},
   "outputs": [
    {
     "name": "stdout",
     "output_type": "stream",
     "text": [
      "Enter Month January\n",
      "found\n",
      "31 days\n"
     ]
    }
   ],
   "source": [
    "my_dict={'January':'31 days','February':'28 or 29 days','March':'31 days','April':'30 days','May':'31 days','June':'30 days','July':'31 days','August':'31 days','September':'30 days','October':'31 days','November':'30 days','December':'31 days',}\n",
    "key=input(\"Enter Month \")\n",
    "if key in my_dict:\n",
    "    print(\"found\")\n",
    "    print(my_dict[key])\n",
    "else:\n",
    "    print(\"not found\")"
   ]
  },
  {
   "cell_type": "markdown",
   "metadata": {},
   "source": [
    "# 11."
   ]
  },
  {
   "cell_type": "code",
   "execution_count": 9,
   "metadata": {},
   "outputs": [
    {
     "name": "stdout",
     "output_type": "stream",
     "text": [
      "Enter no 10\n",
      "Enter no 20\n",
      "Enter no 0\n",
      "End of the list!\n",
      "[10, 20]\n",
      "Average is  15.0\n"
     ]
    }
   ],
   "source": [
    "c=[]\n",
    "i=int(input('Enter no '))\n",
    "sum=0\n",
    "k=0\n",
    "if i==0:\n",
    "    print('End of the list!')    \n",
    "else:    \n",
    "    c.append(i)\n",
    "    while i!=0:\n",
    "        i=int(input('Enter no '))\n",
    "        if i==0:\n",
    "            print('End of the list!')\n",
    "        else:\n",
    "            c.append(i)\n",
    "print(c)            \n",
    "for item in c:\n",
    "    sum=sum+item\n",
    "    k=k+1\n",
    "sum=sum/k\n",
    "print(\"Average is \",sum)"
   ]
  },
  {
   "cell_type": "markdown",
   "metadata": {},
   "source": [
    "# 12."
   ]
  },
  {
   "cell_type": "code",
   "execution_count": 43,
   "metadata": {},
   "outputs": [
    {
     "name": "stdout",
     "output_type": "stream",
     "text": [
      "Enter number:64\n",
      "8.000000000000101\n"
     ]
    }
   ],
   "source": [
    "#import math\n",
    "def sqrt(x):\n",
    "    guess=x/2\n",
    "    while guess**2 - x >0.00000000001:\n",
    "        guess=(guess+x/guess)/2\n",
    "    print(guess)\n",
    "x=int(input('Enter number:'))\n",
    "sqrt(x)"
   ]
  },
  {
   "cell_type": "markdown",
   "metadata": {},
   "source": [
    "# 13."
   ]
  },
  {
   "cell_type": "code",
   "execution_count": 25,
   "metadata": {},
   "outputs": [],
   "source": [
    "import math"
   ]
  },
  {
   "cell_type": "code",
   "execution_count": 24,
   "metadata": {},
   "outputs": [
    {
     "name": "stdout",
     "output_type": "stream",
     "text": [
      "Enter perpendicular side cm 12\n",
      "Enter base side cm 9\n",
      "15.0 cm\n"
     ]
    }
   ],
   "source": [
    "def calc(a,b):\n",
    "    return (math.sqrt((a*a)+(b*b)))\n",
    "def inp():\n",
    "    a=int(input('Enter perpendicular side cm '))\n",
    "    b=int(input('Enter base side cm '))       \n",
    "    print(calc(a,b), 'cm') \n",
    "inp()    "
   ]
  },
  {
   "cell_type": "markdown",
   "metadata": {},
   "source": [
    "# 14."
   ]
  },
  {
   "cell_type": "code",
   "execution_count": 44,
   "metadata": {},
   "outputs": [],
   "source": [
    "def median(a,b,c):\n",
    "    c=[a,b,c]\n",
    "    c.sort()\n",
    "    return c[1]"
   ]
  },
  {
   "cell_type": "code",
   "execution_count": 45,
   "metadata": {},
   "outputs": [
    {
     "name": "stdout",
     "output_type": "stream",
     "text": [
      "Enter a 7\n",
      "Enter b 3\n",
      "Enter c 1\n",
      "Median is :  3\n"
     ]
    }
   ],
   "source": [
    "a=int(input('Enter a '))\n",
    "b=int(input('Enter b '))\n",
    "c=int(input('Enter c '))\n",
    "print('Median is : ',median(a,b,c))"
   ]
  },
  {
   "cell_type": "markdown",
   "metadata": {},
   "source": [
    "# 15."
   ]
  },
  {
   "cell_type": "code",
   "execution_count": 6,
   "metadata": {},
   "outputs": [
    {
     "data": {
      "text/plain": [
       "'my name is jayesh and I am fine'"
      ]
     },
     "execution_count": 6,
     "metadata": {},
     "output_type": "execute_result"
    }
   ],
   "source": [
    "s=\"my name is jayesh and i am fine\"\n",
    "\n",
    "ss=str.replace(s,' i ',' I ')\n",
    "ss"
   ]
  },
  {
   "cell_type": "code",
   "execution_count": 7,
   "metadata": {},
   "outputs": [
    {
     "name": "stdout",
     "output_type": "stream",
     "text": [
      "My name is jayesh and I am fine"
     ]
    }
   ],
   "source": [
    "for i in range(len(s)):\n",
    "    if i==0:\n",
    "        print(s[i].upper(),end='')\n",
    "        continue\n",
    "    if s[i]=='i':\n",
    "        if s[i-1]==' ':\n",
    "            if s[i+1]==' ':\n",
    "                print(s[i].upper(),end='')\n",
    "            else:\n",
    "                print(s[i],end='')\n",
    "        else:\n",
    "            print(s[i],end='')\n",
    "    else:\n",
    "        print(s[i],end='')    "
   ]
  },
  {
   "cell_type": "markdown",
   "metadata": {},
   "source": [
    "# 16."
   ]
  },
  {
   "cell_type": "code",
   "execution_count": 27,
   "metadata": {},
   "outputs": [
    {
     "name": "stdout",
     "output_type": "stream",
     "text": [
      "Randomly generated: K R K 1 2 4\n",
      "None\n"
     ]
    }
   ],
   "source": [
    "#\n",
    "import random,string\n",
    "def gno():\n",
    "    return random.randint(0,9)\n",
    "def ch():\n",
    "    return random.randint(1,2)\n",
    "def gnm():\n",
    "    return random.choice(string.ascii_uppercase)\n",
    "\n",
    "def chosen():\n",
    "    if ch()==1:\n",
    "        print('Randomly generated:',gnm(),gnm(),gnm(),gno(),gno(),gno())\n",
    "    else:\n",
    "        print('Randomly generated:',gno(),gno(),gno(),gno(),gnm(),gnm(),gnm())\n",
    "#main\n",
    "print(chosen())"
   ]
  },
  {
   "cell_type": "markdown",
   "metadata": {},
   "source": [
    "# 17."
   ]
  },
  {
   "cell_type": "code",
   "execution_count": 23,
   "metadata": {},
   "outputs": [
    {
     "name": "stdout",
     "output_type": "stream",
     "text": [
      "Enter no 1\n",
      "Enter no 2\n",
      "Enter no 3\n",
      "Enter no 4\n",
      "Enter no 88\n",
      "Enter no 99\n",
      "Enter no 5\n",
      "Enter no 0\n",
      "End of the list!\n",
      "Orignal list [1, 2, 3, 4, 88, 99, 5]\n",
      "Reversed list [5, 99, 88, 4, 3, 2, 1]\n"
     ]
    }
   ],
   "source": [
    "c=[]\n",
    "lc=[]\n",
    "i=int(input('Enter no '))\n",
    "if i==0:\n",
    "    print('End of the list!')    \n",
    "else:    \n",
    "    c.append(i)\n",
    "    while i!=0:\n",
    "        i=int(input('Enter no '))\n",
    "        if i==0:\n",
    "            print('End of the list!')\n",
    "        else:\n",
    "            c.append(i)\n",
    "print(\"Orignal list\",c)\n",
    "i=-1\n",
    "for j in c:\n",
    "    lc.append(c[i])\n",
    "    i-=1\n",
    "print(\"Reversed list\",lc)  "
   ]
  },
  {
   "cell_type": "markdown",
   "metadata": {},
   "source": [
    "# 18."
   ]
  },
  {
   "cell_type": "markdown",
   "metadata": {},
   "source": [
    "1)W\n",
    "\n",
    "2)g\n",
    "\n",
    "3)hingt\n",
    "\n",
    "4)Washington\n",
    "\n",
    "5)H.S.\n",
    "\n",
    "\n",
    "6)maybe String out  of index\n",
    "\n",
    "7)19\n",
    "\n",
    "8)0\n",
    "\n",
    "9)school[11:14]\n",
    "\n",
    "10)sample[-1]\n",
    "\n",
    "11)s='The quick brown fox jumps over the lazy dog' a) s[0] b) s[4] c) s[18] d) s[10:15] e) s[-8:-4] f) s[20:]\n",
    "\n",
    "12)for a in s:\n",
    "\n",
    "     print(a)\n",
    "     \n",
    "13)for a in s step -1:\n",
    "\n",
    "    print(a)\n"
   ]
  },
  {
   "cell_type": "markdown",
   "metadata": {},
   "source": [
    "# 19."
   ]
  },
  {
   "cell_type": "code",
   "execution_count": 28,
   "metadata": {},
   "outputs": [
    {
     "name": "stdout",
     "output_type": "stream",
     "text": [
      "Enter the message to be decoded:JAYESH\n",
      ".--- .- -.-- . ... .... "
     ]
    }
   ],
   "source": [
    "morse={'A':'.-','B':'-...','C':'-.-.','D':'-..','E':'.','F':'..-.','G':'--.','H':'....','I':'..','J':'.---','K':'-.-','L':'.-..','M':'--','N':'-.','O':'---','P':'.--.','Q':'--.-','R':'.-.','S':'...','T':'-','U':'..-','V':'...-','W':'.--','X':'-..-','Y':'-.--','Z':'--..','0':'-----','1':'.----','2':'..---','3':'...--','4':'....-','5':'.....','6':'-....','7':'--...','8':'---..','9':'----.'}\n",
    "string=input('Enter the message to be decoded:')\n",
    "for i in string:\n",
    "    print(morse[i],end=\" \")"
   ]
  },
  {
   "cell_type": "markdown",
   "metadata": {},
   "source": [
    "# 20."
   ]
  },
  {
   "cell_type": "code",
   "execution_count": 29,
   "metadata": {},
   "outputs": [
    {
     "name": "stdout",
     "output_type": "stream",
     "text": [
      "Jayesh\n",
      "6\n"
     ]
    }
   ],
   "source": [
    "unq={}\n",
    "string=input()\n",
    "for i in string:\n",
    "    unq[i]='unique key'\n",
    "print(len(unq))"
   ]
  },
  {
   "cell_type": "markdown",
   "metadata": {},
   "source": [
    "# 21."
   ]
  },
  {
   "cell_type": "code",
   "execution_count": 36,
   "metadata": {},
   "outputs": [],
   "source": [
    "# Q13 repeated"
   ]
  },
  {
   "cell_type": "markdown",
   "metadata": {},
   "source": [
    "# 22."
   ]
  },
  {
   "cell_type": "code",
   "execution_count": 30,
   "metadata": {},
   "outputs": [
    {
     "name": "stdout",
     "output_type": "stream",
     "text": [
      "Enter a string:Jayesh\n",
      "Enter width:12\n",
      "   Jayesh   \n"
     ]
    }
   ],
   "source": [
    "def func(string,w):\n",
    "    if(len(string)>w):\n",
    "        return string\n",
    "    else:\n",
    "        var1=w-len(string)\n",
    "        var=var1//2\n",
    "        string=' '*var+string+' '*var\n",
    "        return string\n",
    "\n",
    "\n",
    "string=input('Enter a string:')\n",
    "w=int(input('Enter width:'))\n",
    "print(func(string,w))"
   ]
  },
  {
   "cell_type": "markdown",
   "metadata": {},
   "source": [
    "# 23."
   ]
  },
  {
   "cell_type": "code",
   "execution_count": 40,
   "metadata": {},
   "outputs": [
    {
     "name": "stdout",
     "output_type": "stream",
     "text": [
      "Enter a string:  +34\n",
      "Integer\n"
     ]
    }
   ],
   "source": [
    "def isinteger(str2):\n",
    "    f = 0\n",
    "    for i in range(len(str2)):\n",
    "        if str2[i]==' ':\n",
    "            pass\n",
    "        elif str2[i]=='+' or str2[i]=='-':\n",
    "            j = i\n",
    "            f = 1\n",
    "            break\n",
    "        elif ord(str2[i])>=48 and ord(str2[i])<=57:\n",
    "            j = i\n",
    "            f = 2\n",
    "            break\n",
    "        else:\n",
    "            print('Not an integer')\n",
    "            return\n",
    "    \n",
    "    if f == 0:\n",
    "        print('Integer')\n",
    "        return\n",
    "    if i >= len(str2)-1 and f==2:\n",
    "        print('Integer')\n",
    "        return\n",
    "    \n",
    "    for i in range(j+1,len(str2)):\n",
    "        if ord(str2[i])>=48 and ord(str2[i])<=57:\n",
    "            f=3\n",
    "            pass\n",
    "        elif str2[i] == ' ':\n",
    "            k = i\n",
    "            break\n",
    "        else:\n",
    "            print('Not an integer')\n",
    "            return\n",
    "    \n",
    "    \n",
    "    if i >= len(str2)-1 and (f==3 or f==2):\n",
    "        print('Integer')\n",
    "        return\n",
    "    if f!=3:\n",
    "        print('Not an integer')\n",
    "        return\n",
    "    \n",
    "    for i in range(k+1,len(str2)):\n",
    "        if str2[i]==' ':\n",
    "            pass\n",
    "        else:\n",
    "            print('Not an integer')\n",
    "            return\n",
    "    print('Integer')        \n",
    "\n",
    "\n",
    "\n",
    "str1 = input('Enter a string: ')\n",
    "isinteger(str1)"
   ]
  },
  {
   "cell_type": "markdown",
   "metadata": {},
   "source": [
    "# 24."
   ]
  },
  {
   "cell_type": "code",
   "execution_count": 35,
   "metadata": {},
   "outputs": [
    {
     "name": "stdout",
     "output_type": "stream",
     "text": [
      "Enter a no12\n",
      "False\n"
     ]
    }
   ],
   "source": [
    "def prime(x):\n",
    "    if x==2:\n",
    "        return True\n",
    "    else:\n",
    "        for i in range(2,x):\n",
    "            if x%i==0:\n",
    "                return False\n",
    "    return True\n",
    "inp=int(input('Enter a no'))\n",
    "print(prime(inp))"
   ]
  },
  {
   "cell_type": "markdown",
   "metadata": {},
   "source": [
    "# 25."
   ]
  },
  {
   "cell_type": "code",
   "execution_count": 41,
   "metadata": {},
   "outputs": [],
   "source": [
    "# ghar jaake krunga"
   ]
  },
  {
   "cell_type": "code",
   "execution_count": null,
   "metadata": {},
   "outputs": [],
   "source": []
  }
 ],
 "metadata": {
  "kernelspec": {
   "display_name": "Python 3",
   "language": "python",
   "name": "python3"
  },
  "language_info": {
   "codemirror_mode": {
    "name": "ipython",
    "version": 3
   },
   "file_extension": ".py",
   "mimetype": "text/x-python",
   "name": "python",
   "nbconvert_exporter": "python",
   "pygments_lexer": "ipython3",
   "version": "3.6.5"
  }
 },
 "nbformat": 4,
 "nbformat_minor": 2
}
